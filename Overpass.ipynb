{
 "cells": [
  {
   "cell_type": "code",
   "execution_count": 3,
   "metadata": {},
   "outputs": [],
   "source": [
    "import overpass\n",
    "import geojson\n",
    "\n",
    "api = overpass.API(timeout=500)\n",
    "\n",
    "# fetch all ways and nodes\n",
    "result = api.get(\"\"\"\n",
    "    node[amenity=pub](46.8410025, -123.2330404,48.2494561,-121.6019589);  \n",
    "    (._;>;);\n",
    "    out body;\n",
    "    \"\"\")\n",
    "\n",
    "with open(\"test.geojson\",mode=\"w\") as f:\n",
    "  geojson.dump(result,f)"
   ]
  },
  {
   "cell_type": "code",
   "execution_count": 10,
   "metadata": {},
   "outputs": [
    {
     "ename": "NotSupportedError",
     "evalue": "Authentication plugin 'caching_sha2_password' is not supported",
     "output_type": "error",
     "traceback": [
      "\u001b[0;31m---------------------------------------------------------------------------\u001b[0m",
      "\u001b[0;31mNotSupportedError\u001b[0m                         Traceback (most recent call last)",
      "\u001b[1;32m/Users/devynduvall/Documents/github/NeighborhoodInspector/Overpass.ipynb Cell 2\u001b[0m line \u001b[0;36m3\n\u001b[1;32m      <a href='vscode-notebook-cell:/Users/devynduvall/Documents/github/NeighborhoodInspector/Overpass.ipynb#W4sZmlsZQ%3D%3D?line=0'>1</a>\u001b[0m \u001b[39mimport\u001b[39;00m \u001b[39mmysql\u001b[39;00m\u001b[39m.\u001b[39;00m\u001b[39mconnector\u001b[39;00m\n\u001b[0;32m----> <a href='vscode-notebook-cell:/Users/devynduvall/Documents/github/NeighborhoodInspector/Overpass.ipynb#W4sZmlsZQ%3D%3D?line=2'>3</a>\u001b[0m mydb \u001b[39m=\u001b[39m mysql\u001b[39m.\u001b[39mconnector\u001b[39m.\u001b[39mconnect(\n\u001b[1;32m      <a href='vscode-notebook-cell:/Users/devynduvall/Documents/github/NeighborhoodInspector/Overpass.ipynb#W4sZmlsZQ%3D%3D?line=3'>4</a>\u001b[0m     host \u001b[39m=\u001b[39m \u001b[39m\"\u001b[39m\u001b[39mlocalhost\u001b[39m\u001b[39m\"\u001b[39m,\n\u001b[1;32m      <a href='vscode-notebook-cell:/Users/devynduvall/Documents/github/NeighborhoodInspector/Overpass.ipynb#W4sZmlsZQ%3D%3D?line=4'>5</a>\u001b[0m     user \u001b[39m=\u001b[39m \u001b[39m\"\u001b[39m\u001b[39mroot\u001b[39m\u001b[39m\"\u001b[39m,\n\u001b[1;32m      <a href='vscode-notebook-cell:/Users/devynduvall/Documents/github/NeighborhoodInspector/Overpass.ipynb#W4sZmlsZQ%3D%3D?line=5'>6</a>\u001b[0m     passwd \u001b[39m=\u001b[39m \u001b[39m\"\u001b[39m\u001b[39m#1234abcd\u001b[39m\u001b[39m\"\u001b[39m,\n\u001b[1;32m      <a href='vscode-notebook-cell:/Users/devynduvall/Documents/github/NeighborhoodInspector/Overpass.ipynb#W4sZmlsZQ%3D%3D?line=6'>7</a>\u001b[0m )\n\u001b[1;32m      <a href='vscode-notebook-cell:/Users/devynduvall/Documents/github/NeighborhoodInspector/Overpass.ipynb#W4sZmlsZQ%3D%3D?line=8'>9</a>\u001b[0m \u001b[39m# Create a Cursor\u001b[39;00m\n\u001b[1;32m     <a href='vscode-notebook-cell:/Users/devynduvall/Documents/github/NeighborhoodInspector/Overpass.ipynb#W4sZmlsZQ%3D%3D?line=9'>10</a>\u001b[0m mycursor \u001b[39m=\u001b[39m mydb\u001b[39m.\u001b[39mcursor()\n",
      "File \u001b[0;32m~/anaconda3/lib/python3.11/site-packages/mysql/connector/__init__.py:179\u001b[0m, in \u001b[0;36mconnect\u001b[0;34m(*args, **kwargs)\u001b[0m\n\u001b[1;32m    177\u001b[0m     \u001b[39mreturn\u001b[39;00m CMySQLConnection(\u001b[39m*\u001b[39margs, \u001b[39m*\u001b[39m\u001b[39m*\u001b[39mkwargs)\n\u001b[1;32m    178\u001b[0m \u001b[39melse\u001b[39;00m:\n\u001b[0;32m--> 179\u001b[0m     \u001b[39mreturn\u001b[39;00m MySQLConnection(\u001b[39m*\u001b[39margs, \u001b[39m*\u001b[39m\u001b[39m*\u001b[39mkwargs)\n",
      "File \u001b[0;32m~/anaconda3/lib/python3.11/site-packages/mysql/connector/connection.py:95\u001b[0m, in \u001b[0;36mMySQLConnection.__init__\u001b[0;34m(self, *args, **kwargs)\u001b[0m\n\u001b[1;32m     92\u001b[0m \u001b[39mself\u001b[39m\u001b[39m.\u001b[39m_pool_config_version \u001b[39m=\u001b[39m \u001b[39mNone\u001b[39;00m\n\u001b[1;32m     94\u001b[0m \u001b[39mif\u001b[39;00m \u001b[39mlen\u001b[39m(kwargs) \u001b[39m>\u001b[39m \u001b[39m0\u001b[39m:\n\u001b[0;32m---> 95\u001b[0m     \u001b[39mself\u001b[39m\u001b[39m.\u001b[39mconnect(\u001b[39m*\u001b[39m\u001b[39m*\u001b[39mkwargs)\n",
      "File \u001b[0;32m~/anaconda3/lib/python3.11/site-packages/mysql/connector/abstracts.py:716\u001b[0m, in \u001b[0;36mMySQLConnectionAbstract.connect\u001b[0;34m(self, **kwargs)\u001b[0m\n\u001b[1;32m    713\u001b[0m     \u001b[39mself\u001b[39m\u001b[39m.\u001b[39mconfig(\u001b[39m*\u001b[39m\u001b[39m*\u001b[39mkwargs)\n\u001b[1;32m    715\u001b[0m \u001b[39mself\u001b[39m\u001b[39m.\u001b[39mdisconnect()\n\u001b[0;32m--> 716\u001b[0m \u001b[39mself\u001b[39m\u001b[39m.\u001b[39m_open_connection()\n\u001b[1;32m    717\u001b[0m \u001b[39mself\u001b[39m\u001b[39m.\u001b[39m_post_connection()\n",
      "File \u001b[0;32m~/anaconda3/lib/python3.11/site-packages/mysql/connector/connection.py:208\u001b[0m, in \u001b[0;36mMySQLConnection._open_connection\u001b[0;34m(self)\u001b[0m\n\u001b[1;32m    206\u001b[0m \u001b[39mself\u001b[39m\u001b[39m.\u001b[39m_socket\u001b[39m.\u001b[39mopen_connection()\n\u001b[1;32m    207\u001b[0m \u001b[39mself\u001b[39m\u001b[39m.\u001b[39m_do_handshake()\n\u001b[0;32m--> 208\u001b[0m \u001b[39mself\u001b[39m\u001b[39m.\u001b[39m_do_auth(\u001b[39mself\u001b[39m\u001b[39m.\u001b[39m_user, \u001b[39mself\u001b[39m\u001b[39m.\u001b[39m_password,\n\u001b[1;32m    209\u001b[0m               \u001b[39mself\u001b[39m\u001b[39m.\u001b[39m_database, \u001b[39mself\u001b[39m\u001b[39m.\u001b[39m_client_flags, \u001b[39mself\u001b[39m\u001b[39m.\u001b[39m_charset_id,\n\u001b[1;32m    210\u001b[0m               \u001b[39mself\u001b[39m\u001b[39m.\u001b[39m_ssl)\n\u001b[1;32m    211\u001b[0m \u001b[39mself\u001b[39m\u001b[39m.\u001b[39mset_converter_class(\u001b[39mself\u001b[39m\u001b[39m.\u001b[39m_converter_class)\n\u001b[1;32m    212\u001b[0m \u001b[39mif\u001b[39;00m \u001b[39mself\u001b[39m\u001b[39m.\u001b[39m_client_flags \u001b[39m&\u001b[39m ClientFlag\u001b[39m.\u001b[39mCOMPRESS:\n",
      "File \u001b[0;32m~/anaconda3/lib/python3.11/site-packages/mysql/connector/connection.py:137\u001b[0m, in \u001b[0;36mMySQLConnection._do_auth\u001b[0;34m(self, username, password, database, client_flags, charset, ssl_options)\u001b[0m\n\u001b[1;32m    134\u001b[0m     \u001b[39mself\u001b[39m\u001b[39m.\u001b[39m_socket\u001b[39m.\u001b[39mswitch_to_ssl(\u001b[39m*\u001b[39m\u001b[39m*\u001b[39mssl_options)\n\u001b[1;32m    135\u001b[0m     \u001b[39mself\u001b[39m\u001b[39m.\u001b[39m_ssl_active \u001b[39m=\u001b[39m \u001b[39mTrue\u001b[39;00m\n\u001b[0;32m--> 137\u001b[0m packet \u001b[39m=\u001b[39m \u001b[39mself\u001b[39m\u001b[39m.\u001b[39m_protocol\u001b[39m.\u001b[39mmake_auth(\n\u001b[1;32m    138\u001b[0m     handshake\u001b[39m=\u001b[39m\u001b[39mself\u001b[39m\u001b[39m.\u001b[39m_handshake,\n\u001b[1;32m    139\u001b[0m     username\u001b[39m=\u001b[39musername, password\u001b[39m=\u001b[39mpassword, database\u001b[39m=\u001b[39mdatabase,\n\u001b[1;32m    140\u001b[0m     charset\u001b[39m=\u001b[39mcharset, client_flags\u001b[39m=\u001b[39mclient_flags,\n\u001b[1;32m    141\u001b[0m     ssl_enabled\u001b[39m=\u001b[39m\u001b[39mself\u001b[39m\u001b[39m.\u001b[39m_ssl_active,\n\u001b[1;32m    142\u001b[0m     auth_plugin\u001b[39m=\u001b[39m\u001b[39mself\u001b[39m\u001b[39m.\u001b[39m_auth_plugin)\n\u001b[1;32m    143\u001b[0m \u001b[39mself\u001b[39m\u001b[39m.\u001b[39m_socket\u001b[39m.\u001b[39msend(packet)\n\u001b[1;32m    144\u001b[0m \u001b[39mself\u001b[39m\u001b[39m.\u001b[39m_auth_switch_request(username, password)\n",
      "File \u001b[0;32m~/anaconda3/lib/python3.11/site-packages/mysql/connector/protocol.py:99\u001b[0m, in \u001b[0;36mMySQLProtocol.make_auth\u001b[0;34m(self, handshake, username, password, database, charset, client_flags, max_allowed_packet, ssl_enabled, auth_plugin)\u001b[0m\n\u001b[1;32m     93\u001b[0m     username_bytes \u001b[39m=\u001b[39m username\n\u001b[1;32m     94\u001b[0m packet \u001b[39m=\u001b[39m struct\u001b[39m.\u001b[39mpack(\u001b[39m'\u001b[39m\u001b[39m<IIB\u001b[39m\u001b[39m{filler}\u001b[39;00m\u001b[39m{usrlen}\u001b[39;00m\u001b[39msx\u001b[39m\u001b[39m'\u001b[39m\u001b[39m.\u001b[39mformat(\n\u001b[1;32m     95\u001b[0m     filler\u001b[39m=\u001b[39m\u001b[39m'\u001b[39m\u001b[39mx\u001b[39m\u001b[39m'\u001b[39m \u001b[39m*\u001b[39m \u001b[39m23\u001b[39m, usrlen\u001b[39m=\u001b[39m\u001b[39mlen\u001b[39m(username_bytes)),\n\u001b[1;32m     96\u001b[0m                      client_flags, max_allowed_packet, charset,\n\u001b[1;32m     97\u001b[0m                      username_bytes)\n\u001b[0;32m---> 99\u001b[0m packet \u001b[39m+\u001b[39m\u001b[39m=\u001b[39m \u001b[39mself\u001b[39m\u001b[39m.\u001b[39m_auth_response(client_flags, username, password,\n\u001b[1;32m    100\u001b[0m                               database,\n\u001b[1;32m    101\u001b[0m                               auth_plugin,\n\u001b[1;32m    102\u001b[0m                               auth_data, ssl_enabled)\n\u001b[1;32m    104\u001b[0m packet \u001b[39m+\u001b[39m\u001b[39m=\u001b[39m \u001b[39mself\u001b[39m\u001b[39m.\u001b[39m_connect_with_db(client_flags, database)\n\u001b[1;32m    106\u001b[0m \u001b[39mif\u001b[39;00m client_flags \u001b[39m&\u001b[39m ClientFlag\u001b[39m.\u001b[39mPLUGIN_AUTH:\n",
      "File \u001b[0;32m~/anaconda3/lib/python3.11/site-packages/mysql/connector/protocol.py:58\u001b[0m, in \u001b[0;36mMySQLProtocol._auth_response\u001b[0;34m(self, client_flags, username, password, database, auth_plugin, auth_data, ssl_enabled)\u001b[0m\n\u001b[1;32m     55\u001b[0m     \u001b[39mreturn\u001b[39;00m \u001b[39mb\u001b[39m\u001b[39m'\u001b[39m\u001b[39m\\x00\u001b[39;00m\u001b[39m'\u001b[39m\n\u001b[1;32m     57\u001b[0m \u001b[39mtry\u001b[39;00m:\n\u001b[0;32m---> 58\u001b[0m     auth \u001b[39m=\u001b[39m get_auth_plugin(auth_plugin)(\n\u001b[1;32m     59\u001b[0m         auth_data,\n\u001b[1;32m     60\u001b[0m         username\u001b[39m=\u001b[39musername, password\u001b[39m=\u001b[39mpassword, database\u001b[39m=\u001b[39mdatabase,\n\u001b[1;32m     61\u001b[0m         ssl_enabled\u001b[39m=\u001b[39mssl_enabled)\n\u001b[1;32m     62\u001b[0m     plugin_auth_response \u001b[39m=\u001b[39m auth\u001b[39m.\u001b[39mauth_response()\n\u001b[1;32m     63\u001b[0m \u001b[39mexcept\u001b[39;00m (\u001b[39mTypeError\u001b[39;00m, errors\u001b[39m.\u001b[39mInterfaceError) \u001b[39mas\u001b[39;00m exc:\n",
      "File \u001b[0;32m~/anaconda3/lib/python3.11/site-packages/mysql/connector/authentication.py:190\u001b[0m, in \u001b[0;36mget_auth_plugin\u001b[0;34m(plugin_name)\u001b[0m\n\u001b[1;32m    187\u001b[0m     \u001b[39mif\u001b[39;00m authclass\u001b[39m.\u001b[39mplugin_name \u001b[39m==\u001b[39m plugin_name:\n\u001b[1;32m    188\u001b[0m         \u001b[39mreturn\u001b[39;00m authclass\n\u001b[0;32m--> 190\u001b[0m \u001b[39mraise\u001b[39;00m errors\u001b[39m.\u001b[39mNotSupportedError(\n\u001b[1;32m    191\u001b[0m     \u001b[39m\"\u001b[39m\u001b[39mAuthentication plugin \u001b[39m\u001b[39m'\u001b[39m\u001b[39m{0}\u001b[39;00m\u001b[39m'\u001b[39m\u001b[39m is not supported\u001b[39m\u001b[39m\"\u001b[39m\u001b[39m.\u001b[39mformat(plugin_name))\n",
      "\u001b[0;31mNotSupportedError\u001b[0m: Authentication plugin 'caching_sha2_password' is not supported"
     ]
    }
   ],
   "source": [
    "import mysql.connector\n",
    "\n",
    "mydb = mysql.connector.connect(\n",
    "    host = \"localhost\",\n",
    "    user = \"root\",\n",
    "    passwd = \"#1234abcd\",\n",
    ")\n",
    "\n",
    "# Create a Cursor\n",
    "mycursor = mydb.cursor()\n",
    "\n",
    "mycursor.execute(\"DROP DATABASE rentalrestaurant\")\n",
    "\n",
    "# Create a Database\n",
    "mycursor.execute(\"CREATE DATABASE rentalrestaurant\")\n",
    "\n",
    "# Close the Connection\n",
    "mydb.close()"
   ]
  },
  {
   "cell_type": "code",
   "execution_count": 12,
   "metadata": {},
   "outputs": [],
   "source": [
    "import overpass\n",
    "import geojson\n",
    "\n",
    "api = overpass.API()\n",
    "\n",
    "# api.get already returns a FeatureCollection, a GeoJSON type\n",
    "res = api.get(\"\"\"\n",
    "    (\n",
    "      node[\"amenity\"=\"restaurant\"](46.8410025,-123.2330404,48.2494561,-121.6019589);\n",
    "      node[\"amenity\"=\"pub\"](46.8410025,-123.2330404,48.2494561,-121.6019589);\n",
    "      node[\"amenity\"=\"cafe\"](46.8410025,-123.2330404,48.2494561,-121.6019589);\n",
    "      node[\"amenity\"=\"bar\"](46.8410025,-123.2330404,48.2494561,-121.6019589);\n",
    "    );\n",
    "\"\"\", verbosity='geom')\n",
    "# if you want a str, then use dumps function\n",
    "#geojson_str = geojson.dumps(res)\n",
    "for feature in res['features']:\n",
    "    feature['properties']['id'] = feature['id']\n",
    "\n",
    "# dump as file, if you want to save it in file\n",
    "with open(\"./geo_data/restaurant.geojson\",mode=\"w\") as f:\n",
    "  geojson.dump(res,f)\n",
    "\n",
    "node_ids = [feature['id'] for feature in res['features']]"
   ]
  },
  {
   "cell_type": "code",
   "execution_count": 7,
   "metadata": {},
   "outputs": [],
   "source": [
    "# api.get already returns a FeatureCollection, a GeoJSON type\n",
    "res = api.get(\"\"\"\n",
    "    (\n",
    "      node[\"shop\"](46.8410025,-123.2330404,48.2494561,-121.6019589);\n",
    "    );\n",
    "\"\"\", verbosity='geom')\n",
    "# if you want a str, then use dumps function\n",
    "#geojson_str = geojson.dumps(res)\n",
    "for feature in res['features']:\n",
    "    feature['properties']['id'] = feature['id']\n",
    "\n",
    "# dump as file, if you want to save it in file\n",
    "with open(\"./shop.geojson\",mode=\"w\") as f:\n",
    "  geojson.dump(res,f)\n",
    "\n",
    "node_ids = [feature['id'] for feature in res['features']]"
   ]
  },
  {
   "cell_type": "code",
   "execution_count": 25,
   "metadata": {},
   "outputs": [
    {
     "data": {
      "text/plain": [
       "<overpy.Result at 0x10ceb4c50>"
      ]
     },
     "execution_count": 25,
     "metadata": {},
     "output_type": "execute_result"
    }
   ],
   "source": [
    "# show all of the data inside of the result object\n",
    "result"
   ]
  }
 ],
 "metadata": {
  "kernelspec": {
   "display_name": "base",
   "language": "python",
   "name": "python3"
  },
  "language_info": {
   "codemirror_mode": {
    "name": "ipython",
    "version": 3
   },
   "file_extension": ".py",
   "mimetype": "text/x-python",
   "name": "python",
   "nbconvert_exporter": "python",
   "pygments_lexer": "ipython3",
   "version": "3.11.5"
  }
 },
 "nbformat": 4,
 "nbformat_minor": 2
}
